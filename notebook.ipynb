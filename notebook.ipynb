{
 "cells": [
  {
   "cell_type": "code",
   "execution_count": 1,
   "id": "c8e53768-7388-4235-891f-814ceb7e8432",
   "metadata": {},
   "outputs": [],
   "source": [
    "from sampleIndex.sampleIndex import buildindex\n",
    "from databaseRefactor import rebuild_index, separate_languages"
   ]
  },
  {
   "cell_type": "code",
   "execution_count": 2,
   "id": "ae75d0cd-6370-40e9-b0c7-6dc7f11881a9",
   "metadata": {},
   "outputs": [],
   "source": [
    "# make a sample index with 500 arabic and farsi contents\n",
    "buildindex(name=\"sample-index\", field=\"body\")"
   ]
  },
  {
   "cell_type": "code",
   "execution_count": 4,
   "id": "68dbba01-90f4-4b96-bf5a-f676e61b0fc5",
   "metadata": {},
   "outputs": [],
   "source": [
    "# seperate arabic and farsi sentences and added as new fields to database\n",
    "input_index = 'sample-index'\n",
    "output_index = 'my-index'\n",
    "text_field = 'body'\n",
    "\n",
    "rebuild_index(input_index, output_index, text_field, language_detection_library='voting')"
   ]
  },
  {
   "cell_type": "code",
   "execution_count": 5,
   "id": "adacec7a-7f3e-4732-9e8e-05faa734da18",
   "metadata": {},
   "outputs": [
    {
     "data": {
      "text/plain": [
       "{'farsi_field': 'کیست که بتواند آتش بر کف دست نهد و با یاد کوه های پر برف قفقاز خود را سرگرم کند؟',\n",
       " 'arabic_field': 'من يستطيع أن يشعل النار في يده؟',\n",
       " 'farsi_indices': [1,\n",
       "  2,\n",
       "  3,\n",
       "  4,\n",
       "  5,\n",
       "  6,\n",
       "  7,\n",
       "  8,\n",
       "  9,\n",
       "  10,\n",
       "  11,\n",
       "  12,\n",
       "  13,\n",
       "  14,\n",
       "  15,\n",
       "  16,\n",
       "  17,\n",
       "  18,\n",
       "  19,\n",
       "  20],\n",
       " 'arabic_indices': [21, 22, 23, 24, 25, 26, 27]}"
      ]
     },
     "execution_count": 5,
     "metadata": {},
     "output_type": "execute_result"
    }
   ],
   "source": [
    "# to build a dictionary of farsi and arabic part of a string\n",
    "string = 'کیست که بتواند آتش بر کف دست نهد و با یاد کوه های پر برف قفقاز خود را سرگرم کند؟ من يستطيع أن يشعل النار في يده؟'\n",
    "separate_languages(string)"
   ]
  },
  {
   "cell_type": "code",
   "execution_count": null,
   "id": "5954228d-d2a8-4fdb-8deb-678c00bc0c05",
   "metadata": {},
   "outputs": [],
   "source": []
  }
 ],
 "metadata": {
  "kernelspec": {
   "display_name": "Python 3",
   "language": "python",
   "name": "python3"
  },
  "language_info": {
   "codemirror_mode": {
    "name": "ipython",
    "version": 3
   },
   "file_extension": ".py",
   "mimetype": "text/x-python",
   "name": "python",
   "nbconvert_exporter": "python",
   "pygments_lexer": "ipython3",
   "version": "3.8.5"
  }
 },
 "nbformat": 4,
 "nbformat_minor": 5
}
