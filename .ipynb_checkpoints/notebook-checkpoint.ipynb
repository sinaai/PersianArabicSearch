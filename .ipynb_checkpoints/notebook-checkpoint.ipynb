{
 "cells": [
  {
   "cell_type": "code",
   "execution_count": 14,
   "id": "c8e53768-7388-4235-891f-814ceb7e8432",
   "metadata": {},
   "outputs": [],
   "source": [
    "from sampleIndex.sampleIndex import buildindex\n",
    "from databaseRefactor import rebuild_index"
   ]
  },
  {
   "cell_type": "code",
   "execution_count": 17,
   "id": "ae75d0cd-6370-40e9-b0c7-6dc7f11881a9",
   "metadata": {},
   "outputs": [],
   "source": [
    "# make a sample index with 500 arabic and farsi contents\n",
    "buildindex(name=\"sample-index\", field=\"body\")"
   ]
  },
  {
   "cell_type": "code",
   "execution_count": 18,
   "id": "68dbba01-90f4-4b96-bf5a-f676e61b0fc5",
   "metadata": {},
   "outputs": [],
   "source": [
    "# seperate arabic and farsi sentences and added as new fields to database\n",
    "index_name = 'sample-index'\n",
    "text_field = 'body'\n",
    "\n",
    "rebuild_index(index_name, text_field, language_detection_library='voting')"
   ]
  },
  {
   "cell_type": "code",
   "execution_count": null,
   "id": "c8824cdd-d8c2-4adf-acaa-a4e6300e834b",
   "metadata": {},
   "outputs": [],
   "source": []
  }
 ],
 "metadata": {
  "kernelspec": {
   "display_name": "Python 3",
   "language": "python",
   "name": "python3"
  },
  "language_info": {
   "codemirror_mode": {
    "name": "ipython",
    "version": 3
   },
   "file_extension": ".py",
   "mimetype": "text/x-python",
   "name": "python",
   "nbconvert_exporter": "python",
   "pygments_lexer": "ipython3",
   "version": "3.8.5"
  }
 },
 "nbformat": 4,
 "nbformat_minor": 5
}
